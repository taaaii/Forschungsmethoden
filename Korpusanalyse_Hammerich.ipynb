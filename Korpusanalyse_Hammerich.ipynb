{
 "cells": [
  {
   "cell_type": "markdown",
   "metadata": {
    "pycharm": {
     "name": "#%% md\n"
    }
   },
   "source": [
    "## Import statements"
   ]
  },
  {
   "cell_type": "code",
   "execution_count": 1,
   "metadata": {
    "pycharm": {
     "name": "#%%\n"
    }
   },
   "outputs": [],
   "source": [
    "from Scripte.korpus import Korpus\n",
    "from Scripte.settings import Settings\n",
    "\n",
    "import json\n",
    "import re\n",
    "import string\n",
    "import spacy\n",
    "\n",
    "import numpy as np\n",
    "import pandas as pd\n",
    "import seaborn as sns\n",
    "import plotly.express as px\n",
    "\n",
    "from tqdm.notebook import tqdm\n",
    "from functools import reduce\n",
    "from pathlib import Path\n",
    "from datetime import datetime\n",
    "from collections import Counter\n",
    "\n",
    "from spacy.lang.de import German"
   ]
  },
  {
   "cell_type": "code",
   "execution_count": 2,
   "metadata": {
    "pycharm": {
     "name": "#%%\n"
    }
   },
   "outputs": [],
   "source": [
    "nlp = spacy.load(\"de_core_news_lg\") # oder md  oder lg  wenn heruntergeladen"
   ]
  },
  {
   "cell_type": "markdown",
   "metadata": {
    "pycharm": {
     "name": "#%% md\n"
    }
   },
   "source": [
    "## Functions"
   ]
  },
  {
   "cell_type": "code",
   "execution_count": 3,
   "metadata": {
    "pycharm": {
     "name": "#%%\n"
    }
   },
   "outputs": [],
   "source": [
    "def _convert_text(text:str) -> str:\n",
    "    replacements = [(r\"http.+?\\s\", \" \"), (r\"([a-z])([A-Z])\", r\"\\1 \\2\"), (r\"\u0001\", \"\"), \n",
    "                    (r\"\u0002\", \"\"), (r\"\\*{2,}\", \"\"), (\"_+\", \"\"), ]\n",
    "    for old, new in reversed(replacements):\n",
    "        text = text.replace(old, new)\n",
    "    return _convert_entities(text)\n",
    "\n",
    "def _convert_entities(text:str) -> str:\n",
    "    doc = nlp(text)\n",
    "    for entity in reversed(doc.ents):\n",
    "        text = text[:entity.start_char] + entity.label_ + text[entity.end_char:]\n",
    "    return text\n",
    "    \n",
    "\n",
    "def _convert_wordcount(number: str) -> int:\n",
    "    return int(number.replace(\".\", \"\"))\n",
    "\n",
    "def _convert_release(date:str):\n",
    "    return datetime.strptime(date.strip(), \"%d.%m.%Y\")\n",
    " \n",
    "def old_create_df(path, gender):\n",
    "    data = reduce(lambda a, b: a.append(b, ignore_index= True), tqdm([create_part(x) for x in path]))\n",
    "    data[\"gender\"] = gender\n",
    "    return data\n",
    "\n",
    "def create_df(path, gender, genre):\n",
    "    data = pd.concat([create_part(x) for x in tqdm(path)], ignore_index=True)\n",
    "    data[\"gender\"] = gender\n",
    "    data[\"genre\"] = genre\n",
    "    return data\n",
    "\n",
    "def contains_words(string : str, words) -> bool:\n",
    "    return any(x in string for x in words)\n",
    "\n",
    "def create_part(file) -> pd.DataFrame:\n",
    "    start = json.load(open(file))\n",
    "    x = pd.DataFrame.from_dict(start[\"chapters\"], orient= \"index\", columns=[\"text\", \"wordcount\"])\n",
    "    x[\"text\"] = x[\"text\"].apply(_convert_text)\n",
    "    x[\"wordcount\"] = x[\"wordcount\"].apply(_convert_wordcount)\n",
    "    x[\"novel\"] = re.sub(r\"\\W\", \" \", start[\"title\"])\n",
    "    x[\"release\"] = _convert_release(start[\"release\"])\n",
    "    return x \n",
    "    "
   ]
  },
  {
   "cell_type": "markdown",
   "metadata": {
    "pycharm": {
     "name": "#%% md\n"
    }
   },
   "source": [
    "### Korpus aufbauen"
   ]
  },
  {
   "cell_type": "code",
   "execution_count": 7,
   "metadata": {
    "pycharm": {
     "name": "#%%\n"
    }
   },
   "outputs": [
    {
     "name": "stdout",
     "output_type": "stream",
     "text": [
      "[WindowsPath('json/krimis/M/Blutsfeder.json'), WindowsPath('json/krimis/M/Crossed-Arrows-Verschraenkte-Pfeile.json'), WindowsPath('json/krimis/M/Das-Geheimnis-von-Silver-City.json'), WindowsPath('json/krimis/M/Das-Geisterschiff.json'), WindowsPath('json/krimis/M/Das-Geschaeft.json'), WindowsPath('json/krimis/M/Das-Mantra-fuer-Blau.json'), WindowsPath('json/krimis/M/Der-Detektiv-und-die-Fluechtlinge.json'), WindowsPath('json/krimis/M/Der-Pate-von-Sankt-Petersburg.json'), WindowsPath('json/krimis/M/Detektei-X.json'), WindowsPath('json/krimis/M/Die-Beine-des-Victor-Vervodin.json'), WindowsPath('json/krimis/M/Die-Biene.json'), WindowsPath('json/krimis/M/Eine-letzte-Kugel.json'), WindowsPath('json/krimis/M/Einmal-zurueck-und-wieder-zurueck-bitte.json'), WindowsPath('json/krimis/M/Equus-Carnifex.json'), WindowsPath('json/krimis/M/Goldrausch.json'), WindowsPath('json/krimis/M/Himmelstraum.json'), WindowsPath('json/krimis/M/Hoehenrausch.json'), WindowsPath('json/krimis/M/IOSC-Duologie-das-Prequel.json'), WindowsPath('json/krimis/M/Jagdfieber.json'), WindowsPath('json/krimis/M/Liebe-den-Tod.json'), WindowsPath('json/krimis/M/Precious-Insel-der-Vergangenheit.json'), WindowsPath('json/krimis/M/Schneeeule.json'), WindowsPath('json/krimis/M/Southern-Comfort.json'), WindowsPath('json/krimis/M/Stilles-Gewaesser.json'), WindowsPath('json/krimis/M/The-Tricks-of-the-Detectives.json'), WindowsPath('json/krimis/M/The-Twist.json'), WindowsPath('json/krimis/M/Toedliche-Begegnung.json'), WindowsPath('json/krimis/M/Tote-Helden.json'), WindowsPath('json/krimis/M/Unter-Verdacht.json'), WindowsPath('json/krimis/M/Verraten.json'), WindowsPath('json/krimis/M/Wolkenkind.json')]\n"
     ]
    }
   ],
   "source": [
    "krimi_W = [x for x in Path(\"./json/krimis/W\").glob('**/*') if x.is_file() if x.suffix == \".json\"]\n",
    "krimi_M = [x for x in Path(\"./json/krimis/M\").glob('**/*') if x.is_file() if x.suffix == \".json\"]\n",
    "#horror\n",
    "hor_W= [x for x in Path(\"./json/horror/W\").glob('**/*') if x.is_file() if x.suffix == \".json\"]\n",
    "hor_M= [x for x in Path(\"./json/horror/M\").glob('**/*') if x.is_file() if x.suffix == \".json\"]\n",
    "#abenteuer \n",
    "aben_W= [x for x in Path(\"./json/abenteuer/W\").glob('**/*') if x.is_file() if x.suffix == \".json\"]\n",
    "aben_M= [x for x in Path(\"./json/abenteuer/M\").glob('**/*') if x.is_file() if x.suffix == \".json\"]\n",
    "\n",
    "#combined\n",
    "json_M = krimi_M + hor_M + aben_M\n",
    "json_W = krimi_W + hor_W + aben_W\n",
    "print(krimi_M)"
   ]
  },
  {
   "cell_type": "markdown",
   "metadata": {
    "pycharm": {
     "name": "#%% md\n"
    }
   },
   "source": [
    "### Diese Schritte brauchen eine Weile. Wenn ihr sie einmal durch habt, könnt ihr unten CSV save/ load verwenden "
   ]
  },
  {
   "cell_type": "code",
   "execution_count": 8,
   "metadata": {
    "pycharm": {
     "name": "#%%\n"
    }
   },
   "outputs": [
    {
     "data": {
      "application/vnd.jupyter.widget-view+json": {
       "model_id": "4be1febc17994df19ca5ac117411cc00",
       "version_major": 2,
       "version_minor": 0
      },
      "text/plain": [
       "  0%|          | 0/31 [00:00<?, ?it/s]"
      ]
     },
     "metadata": {},
     "output_type": "display_data"
    }
   ],
   "source": [
    "data_krimi_M = create_df(krimi_M,\"M\", \"krimi\")\n"
   ]
  },
  {
   "cell_type": "code",
   "execution_count": 9,
   "metadata": {
    "pycharm": {
     "name": "#%%\n"
    }
   },
   "outputs": [
    {
     "data": {
      "application/vnd.jupyter.widget-view+json": {
       "model_id": "ac1de731ab3c449186dabd5196a3c810",
       "version_major": 2,
       "version_minor": 0
      },
      "text/plain": [
       "  0%|          | 0/90 [00:00<?, ?it/s]"
      ]
     },
     "metadata": {},
     "output_type": "display_data"
    }
   ],
   "source": [
    "data_krimi_W = create_df(krimi_W,\"W\",\"krimi\")\n"
   ]
  },
  {
   "cell_type": "code",
   "execution_count": 10,
   "metadata": {
    "pycharm": {
     "name": "#%%\n"
    }
   },
   "outputs": [
    {
     "data": {
      "application/vnd.jupyter.widget-view+json": {
       "model_id": "1471379cdd4d43b9adc89067d8d12e78",
       "version_major": 2,
       "version_minor": 0
      },
      "text/plain": [
       "  0%|          | 0/38 [00:00<?, ?it/s]"
      ]
     },
     "metadata": {},
     "output_type": "display_data"
    },
    {
     "data": {
      "application/vnd.jupyter.widget-view+json": {
       "model_id": "ff6246abd5154a8999168de0d95432f7",
       "version_major": 2,
       "version_minor": 0
      },
      "text/plain": [
       "  0%|          | 0/63 [00:00<?, ?it/s]"
      ]
     },
     "metadata": {},
     "output_type": "display_data"
    }
   ],
   "source": [
    "data_hor_M = create_df(hor_M, \"M\", \"horror\")\n",
    "data_hor_W = create_df(hor_W,\"W\",\"horror\")"
   ]
  },
  {
   "cell_type": "code",
   "execution_count": 18,
   "metadata": {
    "pycharm": {
     "name": "#%%\n"
    }
   },
   "outputs": [
    {
     "data": {
      "application/vnd.jupyter.widget-view+json": {
       "model_id": "cc338853cb0e4cfd9fa4b03c90d305e2",
       "version_major": 2,
       "version_minor": 0
      },
      "text/plain": [
       "  0%|          | 0/31 [00:00<?, ?it/s]"
      ]
     },
     "metadata": {},
     "output_type": "display_data"
    },
    {
     "data": {
      "application/vnd.jupyter.widget-view+json": {
       "model_id": "4745d72e5f91495f82cda84f2842ad48",
       "version_major": 2,
       "version_minor": 0
      },
      "text/plain": [
       "  0%|          | 0/107 [00:00<?, ?it/s]"
      ]
     },
     "metadata": {},
     "output_type": "display_data"
    }
   ],
   "source": [
    "data_aben_M = create_df(aben_M, \"M\", \"abenteuer\")\n",
    "data_aben_W = create_df(aben_W,\"W\",\"abenteuer\")"
   ]
  },
  {
   "cell_type": "code",
   "execution_count": 19,
   "metadata": {
    "pycharm": {
     "name": "#%%\n"
    }
   },
   "outputs": [],
   "source": [
    "data_krimi_full = pd.concat([data_krimi_M, data_krimi_W],ignore_index=True)\n",
    "data_aben_full = pd.concat([data_aben_M, data_aben_W],ignore_index=True)\n",
    "data_hor_full = pd.concat([data_hor_M, data_hor_W],ignore_index=True)"
   ]
  },
  {
   "cell_type": "markdown",
   "metadata": {
    "pycharm": {
     "name": "#%% md\n"
    }
   },
   "source": [
    "## Summen der Wörter"
   ]
  },
  {
   "cell_type": "markdown",
   "metadata": {
    "pycharm": {
     "name": "#%% md\n"
    }
   },
   "source": [
    "## load and save from csv\n"
   ]
  },
  {
   "cell_type": "code",
   "execution_count": 20,
   "metadata": {
    "pycharm": {
     "name": "#%%\n"
    }
   },
   "outputs": [],
   "source": [
    "data_krimi_full.to_csv(\"csv_data_krimi_full.csv\", sep =\"|\")\n",
    "data_aben_full.to_csv(\"csv_data_aben_full.csv\", sep=\"|\")\n",
    "data_hor_full.to_csv(\"csv_data_hor_full.csv\",sep=\"|\")"
   ]
  },
  {
   "cell_type": "code",
   "execution_count": 21,
   "metadata": {
    "pycharm": {
     "name": "#%%\n"
    }
   },
   "outputs": [],
   "source": [
    "data_krimi_full= pd.read_csv(\"csv_data_krimi_full.csv\", sep =\"|\")\n",
    "data_aben_full= pd.read_csv(\"csv_data_aben_full.csv\", sep=\"|\")\n",
    "data_hor_full = pd.read_csv(\"csv_data_hor_full.csv\",sep=\"|\")"
   ]
  },
  {
   "cell_type": "markdown",
   "metadata": {
    "pycharm": {
     "name": "#%% md\n"
    }
   },
   "source": [
    "## build from csv files all permutations"
   ]
  },
  {
   "cell_type": "code",
   "execution_count": 22,
   "metadata": {
    "pycharm": {
     "name": "#%%\n"
    }
   },
   "outputs": [],
   "source": [
    "data_krimi_M = data_krimi_full.loc[data_krimi_full[\"gender\"] == \"M\"]\n",
    "data_krimi_W = data_krimi_full.loc[data_krimi_full[\"gender\"] == \"W\"]\n",
    "data_aben_M = data_aben_full.loc[data_aben_full[\"gender\"] == \"M\"]\n",
    "data_aben_W = data_aben_full.loc[data_aben_full[\"gender\"] == \"W\"]\n",
    "data_hor_M = data_hor_full.loc[data_hor_full[\"gender\"] == \"M\"]\n",
    "data_hor_W = data_hor_full.loc[data_hor_full[\"gender\"] == \"W\"]\n",
    "\n",
    "# full gender views\n",
    "\n",
    "data_all_M = pd.concat([data_krimi_M, data_aben_M, data_hor_M], ignore_index=True)\n",
    "data_all_W = pd.concat([data_krimi_W, data_hor_W, data_aben_W], ignore_index=True)\n",
    "\n",
    "data_all = pd.concat([data_krimi_full, data_aben_full, data_hor_full], ignore_index=True)"
   ]
  },
  {
   "cell_type": "markdown",
   "metadata": {
    "pycharm": {
     "name": "#%% md\n"
    }
   },
   "source": [
    "# Analyse und Berechnung\n",
    "\n",
    "## Vorbereitung"
   ]
  },
  {
   "cell_type": "code",
   "execution_count": 23,
   "metadata": {
    "pycharm": {
     "name": "#%%\n"
    },
    "scrolled": true
   },
   "outputs": [],
   "source": [
    "joined_text_krimi_M = data_krimi_M.groupby('novel')['text'].apply(' '.join)\n",
    "joined_text_krimi_W = data_krimi_W.groupby('novel')['text'].apply(' '.join)\n",
    "joined_text_krimi_full = pd.concat([joined_text_krimi_M,joined_text_krimi_W])"
   ]
  },
  {
   "cell_type": "code",
   "execution_count": 24,
   "metadata": {
    "pycharm": {
     "name": "#%%\n"
    }
   },
   "outputs": [],
   "source": [
    "joined_text_aben_W = data_aben_W.groupby('novel')['text'].apply(' '.join)\n",
    "joined_text_aben_M = data_aben_M.groupby('novel')['text'].apply(' '.join)\n",
    "joined_text_aben_full = pd.concat([joined_text_aben_M, joined_text_aben_W])\n",
    "\n",
    "joined_text_hor_W = data_hor_W.groupby('novel')['text'].apply(' '.join)\n",
    "joined_text_hor_M = data_hor_M.groupby('novel')['text'].apply(' '.join)\n",
    "joined_text_hor_full = data_hor_full.groupby('novel')[\"text\"].apply(' '.join)\n",
    "\n",
    "joined_text_M_full = pd.concat([joined_text_krimi_M,  joined_text_aben_M]) #joined_text_hor_M,\n",
    "joined_text_W_full = pd.concat([joined_text_krimi_W,  joined_text_aben_W])#joined_text_hor_W,"
   ]
  },
  {
   "cell_type": "code",
   "execution_count": 25,
   "metadata": {
    "pycharm": {
     "name": "#%%\n"
    }
   },
   "outputs": [],
   "source": [
    "joined_text_all = data_all.groupby('novel')['text'].apply(' '.join)\n"
   ]
  },
  {
   "cell_type": "markdown",
   "metadata": {
    "pycharm": {
     "name": "#%% md\n"
    }
   },
   "source": [
    "## Dieser Schritt braucht etwas!"
   ]
  },
  {
   "cell_type": "code",
   "execution_count": 26,
   "metadata": {
    "pycharm": {
     "name": "#%%\n"
    }
   },
   "outputs": [],
   "source": [
    "brut_list = 'brutal schlagen schlug mord misshandeln vergewaltigen überfall tod töten tot treten tritt trat verfolgen hart extrem attacke angriff angreifen metzeln reißen missbrauch zerstören prügel rücksichtslos qual quälen blut griff gewalt tat härte diktator krieg schlacht anschlag schläge terror folter killer teulisch gemein brechen bombe sadistisch erbarmungslos barbarisch knochen verletzen roh grob kampf waffen messer knüppel stoßen lust sexuell diebstahl vandalismus amok belästigen mobbing brand demütigen erpressen nötigung rassismus sabotage stalker hass psychisch einschüchtern entführung beleidigen schimpfen schrei ohrenbetäubend betäubung drogen spritzen kämpfen boxen knöchel schlitzen brechen gedärme teufel dämon bestie schreck hexe kriminalität kriminell liste böse prositution schänden schand entblößen entstellen pervers mafia bosheit fleischwunde gebeine skelett gerippe meucheln umbringen auslöschen kannibale sterben pistole gewehr klinge cutter verbrecher dieb straftäter assassine vergehen entehren unterwerfen entmenscht genitalien faust attentat säge'\n",
    "\n",
    "brut_final = [token.lemma_ for token in nlp(brut_list)]\n",
    "\n",
    "def get_brut_ratio(series)-> pd.DataFrame:\n",
    "    results = []\n",
    "    for novel, text in series.items():\n",
    "        if len(text)> nlp.max_length:\n",
    "            for x in _get_results(novel,text):\n",
    "                results.append(x)\n",
    "                print(f\"LOG: finished {novel}\")\n",
    "        else:\n",
    "            results.append([novel]+calc_data(text))\n",
    "            print(f\"LOG: finished {novel}\")\n",
    "        #results.append([novel, brut_sum, brut_types, total_words, percentage])   \n",
    "    df = pd.DataFrame(results, columns=['novel', 'brut_sum', 'brut_type', 'Total Words', 'Percentage'])\n",
    "\n",
    "    return df\n",
    "\n",
    "def _get_results(novel:str, text:str):\n",
    "    results = []\n",
    "    chunks = [text[i:i+nlp.max_length] for i in range(0, len(text), nlp.max_length)]\n",
    "    for i, chunk in enumerate(chunks):\n",
    "        str_ = f\"{novel}_{i}\"\n",
    "        results.append([str_]+ calc_data(chunk))\n",
    "    return results\n",
    "\n",
    "def calc_data(text): \n",
    "    doc = nlp(text)\n",
    "    lemmas = [token.lemma_ for token in doc if token.lemma_ != \"--\"]\n",
    "    count_part = Counter([lemma for lemma in lemmas if lemma in brut_final])\n",
    "    brut_sum = sum(count_part.values())\n",
    "    brut_types = len(count_part)\n",
    "    total_words = len(lemmas)\n",
    "    percentage = (brut_sum / total_words) * 100\n",
    "                       \n",
    "    return [brut_sum, brut_types, total_words, percentage]\n"
   ]
  },
  {
   "cell_type": "markdown",
   "metadata": {
    "pycharm": {
     "name": "#%% md\n"
    }
   },
   "source": [
    "# Dies hier wird weiter bearbeitet!"
   ]
  },
  {
   "cell_type": "code",
   "execution_count": 35,
   "metadata": {
    "pycharm": {
     "name": "#%%\n"
    }
   },
   "outputs": [
    {
     "name": "stdout",
     "output_type": "stream",
     "text": [
      "LOG: finished 43 Stunden\n",
      "LOG: finished 7 Tage Wahnsinn\n",
      "LOG: finished Aloha From Hell\n",
      "LOG: finished Am Ende des Tages\n",
      "LOG: finished Amusement Park\n",
      "LOG: finished Another Fear\n",
      "LOG: finished Archiviert ZOE   DAS LEBEN DES SCHATTEN  BAND I  \n",
      "LOG: finished Archiviert ZOE   DAS LEBEN DES SCHATTEN  BAND I  \n",
      "LOG: finished Archiviert ZOE   DAS VERMÄCHTNIS DER ERBEN  BAND II  \n",
      "LOG: finished Archiviert ZOE   DAS VERMÄCHTNIS DER ERBEN  BAND II  \n",
      "LOG: finished Archiviert ZOE   DAS VERMÄCHTNIS DER ERBEN  BAND II  \n",
      "LOG: finished Archiviert ZOE   Das Leben der Mörderin   Band I \n",
      "LOG: finished Archiviert ZOE   Das Leben der Mörderin   Band II \n",
      "LOG: finished Archiviert ZOE   Das Leben der Mörderin   Band II \n",
      "LOG: finished Archiviert ZOE   Einhundert Tage   Band III \n",
      "LOG: finished Avarus\n",
      "LOG: finished Bad Boy or good guy \n",
      "LOG: finished Because Life doesn t have a Happy End\n",
      "LOG: finished Bloodlust\n",
      "LOG: finished Bloody Mary\n",
      "LOG: finished Blutrot\n",
      "LOG: finished Blutspiel\n",
      "LOG: finished Criminal Minds   Die Geschichten von Clive und Bianca\n",
      "LOG: finished Danach\n",
      "LOG: finished Dark Lightning   oder wie eine Wette mein Leben veränderte\n",
      "LOG: finished Das Blut in deinen Adern\n",
      "LOG: finished Das innere Monster   wenn wir unsere eigenen Feinde werden\n",
      "LOG: finished Dead End\n",
      "LOG: finished Dead Valley\n",
      "LOG: finished Death Angel   dem Tod entkommst du nicht\n",
      "LOG: finished Der Altenpfleger\n",
      "LOG: finished Der Mann ohne Gesicht\n",
      "LOG: finished Der Mitternachtszug\n",
      "LOG: finished Der Puppenmacher\n",
      "LOG: finished Der Schattengraf\n",
      "LOG: finished Der dunkle Gott\n",
      "LOG: finished Der unbekannte Drogenboss\n",
      "LOG: finished Der verhängnisvolle Kursausflug\n",
      "LOG: finished Die Albtraumreise\n",
      "LOG: finished Die Geisterhände\n",
      "LOG: finished Die Herberge der Spinnenfrau\n",
      "LOG: finished Die Horrorparty\n",
      "LOG: finished Die Hülle\n",
      "LOG: finished Die Hütte im Wald\n",
      "LOG: finished Die Jagd geht weiter\n",
      "LOG: finished Die Nacht von Hellows\n",
      "LOG: finished Die Wahl   Wie willst du sterben \n",
      "LOG: finished Dunkles Wasser\n",
      "LOG: finished Durch die Spiegel\n",
      "LOG: finished Ein Mysteriöser Wald\n",
      "LOG: finished Eine Nacht im Lakeside Hotel\n",
      "LOG: finished Es ist in deinem Blut\n",
      "LOG: finished FL16HT OR F16HT  Flucht oder Kampf \n",
      "LOG: finished Ghost Ship\n",
      "LOG: finished Gwyllgi\n",
      "LOG: finished Haus des Schreckens\n",
      "LOG: finished Hazard\n",
      "LOG: finished Heart in a death earth MMFF\n",
      "LOG: finished Hunter   Hunteds\n",
      "LOG: finished Im Käfig\n",
      "LOG: finished Jäger der Finsternis\n",
      "LOG: finished Kannst du dich an Regeln halten \n",
      "LOG: finished Kill me if you can \n",
      "LOG: finished Kingdom of Demons\n",
      "LOG: finished Lass uns SPIELEN \n",
      "LOG: finished Laub in ihrem Haar\n",
      "LOG: finished Âme cassée  Zerbrochene Seele \n",
      "LOG: finished 3\n",
      "LOG: finished Als der Tod an unsere Tür klopfte\n",
      "LOG: finished Attacked\n",
      "LOG: finished Besser  ihr rennt    Old Version\n",
      "LOG: finished Blut   \n",
      "LOG: finished Böse Überraschungen\n",
      "LOG: finished Dark Forces  Staffel 1\n",
      "LOG: finished Das Haus an der Peary Road\n",
      "LOG: finished Das Haus des Schreckens\n",
      "LOG: finished Das Haus im Wald\n",
      "LOG: finished Das Schicksal von Kempton Rock\n",
      "LOG: finished Der Horror dieser Welt\n",
      "LOG: finished Der Mörder an meiner Seite\n",
      "LOG: finished Der Vergessene\n",
      "LOG: finished Der Wald der Puppen  Band 1  Kannst du mich sehen \n",
      "LOG: finished Der Wald der Puppen  Band 2  Die Geister die du riefst   \n",
      "LOG: finished Die Jäger\n",
      "LOG: finished Die Kreatur\n",
      "LOG: finished Die Kreatur Teil 2\n",
      "LOG: finished Die Legende der Vogelscheuche\n",
      "LOG: finished Die Verschwörung von Kempton Rock\n",
      "LOG: finished Die Zombieapokalypse mit den Freaks\n",
      "LOG: finished Die letzte Nacht von Kempton Rock\n",
      "LOG: finished Die strengsten Eltern der Welt\n",
      "LOG: finished Eine Stadt  ein Land und danach ist alles vorbei\n",
      "LOG: finished Epidemic\n",
      "LOG: finished Epidemic\n",
      "LOG: finished Epidemic Band 2\n",
      "LOG: finished Epidemic Band 2\n",
      "LOG: finished Epidemic Band 2\n",
      "LOG: finished Flucht nach Maggir\n",
      "LOG: finished Freaks come out at night\n",
      "LOG: finished Gefangen  MMFF \n",
      "LOG: finished Geschichten aus der Anstalt\n",
      "LOG: finished I can t remember  MMFF \n",
      "LOG: finished Inside\n",
      "LOG: finished Its hard to survive___Eine Zombie Apokalypse Mitmacht FanFiktion\n",
      "LOG: finished Justitia Games\n",
      "LOG: finished Klassentreffen\n",
      "LOG: finished Kuss der Nacht\n",
      "LOG: finished Let s play\n",
      "LOG: finished A Way Out\n",
      "LOG: finished Afrika im Herzen\n",
      "LOG: finished Afrika im Herzen\n",
      "LOG: finished Afterlife\n",
      "LOG: finished Ai e no pasu\n",
      "LOG: finished Alvaro   Der Preis der Freiheit\n",
      "LOG: finished Auf der Suche\n",
      "LOG: finished Außer Kontrolle\n",
      "LOG: finished Bedrohliche Zeiten\n",
      "LOG: finished Blue Jay Storys   Wohin der Wind dich trägt  Mitmachgeschichte \n",
      "LOG: finished Chroniken der Stämme Spotlight  Licht und Schatten  Teil 1 \n",
      "LOG: finished Dark Revolution\n",
      "LOG: finished Das Abenteuer beginnt \n",
      "LOG: finished Das Auge des Horus\n",
      "LOG: finished Das geheimnisvolle Kriegervolk\n",
      "LOG: finished Der Jäger und das Geheimnis von Korinth\n",
      "LOG: finished Der Stein des blauen Mondes\n",
      "LOG: finished Der Waldläufer Nousagi\n",
      "LOG: finished Die Chroniken der Verborgenen Lande   Martin von Wengland   Das Turnier\n",
      "LOG: finished Die Chroniken der Verborgenen Lande   Martin von Wengland   Einer spielt falsch\n",
      "LOG: finished Die Chroniken der Verborgenen Lande   Martin von Wengland   Wirren des Krieges\n",
      "LOG: finished Die Dimension der Piraten\n",
      "LOG: finished Die Erbin Des Diamantdrachens\n",
      "LOG: finished Die Geflügelte Schlange   Erkenntnis\n",
      "LOG: finished Die Gesandten\n",
      "LOG: finished Die Legende von Canaan\n",
      "LOG: finished Die Reise\n",
      "LOG: finished Die Reisende\n",
      "LOG: finished Die Reisenden   Chroniken von Eris\n",
      "LOG: finished Die Spuren der Wölfe\n",
      "LOG: finished Die Welt der Former\n",
      "LOG: finished Die Welt der Former\n",
      "LOG: finished Die vier Schlüssel\n",
      "LOG: finished Disteln und Dornen\n",
      "LOG: finished Drachenblut\n",
      "LOG: finished Dreamdancer\n",
      "LOG: finished Dying Heartbeat\n",
      "LOG: finished Eine dunkle Vergangenheit\n",
      "LOG: finished Eine kleine Reise   \n",
      "LOG: finished Eine kultivierte Rache   oder wie Tilda in einen Strudel krimineller Umtriebe geriet\n",
      "LOG: finished Eternal Dreams\n",
      "LOG: finished Ewige Gerechtigkeit\n",
      "LOG: finished Feuerglut\n",
      "LOG: finished Flug in den Dschungel\n",
      "LOG: finished Frei \n",
      "LOG: finished Fullmoon Night\n",
      "LOG: finished G A  Auf der Jagd nach dem Doppelgänger\n",
      "LOG: finished Game and Life\n",
      "LOG: finished Gefunden\n",
      "LOG: finished Ijslands Lichter\n",
      "LOG: finished In einer fremden Welt\n",
      "LOG: finished Ist ein normales Leben zu viel verlangt \n",
      "LOG: finished Jasper Svatsman   Piratengeschichten\n",
      "LOG: finished Katsumoto\n",
      "LOG: finished KlingenTakt\n",
      "LOG: finished Kommata\n",
      "LOG: finished Krone der Macht  Arbeitstitel \n",
      "LOG: finished Kusuri  der Dämonenarzt  Leseprobe \n",
      "LOG: finished Leben  kämpfen  sterben\n",
      "LOG: finished Lilith   Rose   Worlds Beyond\n",
      "LOG: finished Lost in Death\n",
      "LOG: finished Maria Miller 3   Macht und Schicksal\n",
      "LOG: finished Mein Jahr mit dir\n",
      "LOG: finished Mein neues Leben\n",
      "LOG: finished Mia und Kai   das Verweilen im Nichts   Band II  \n",
      "LOG: finished Miles away\n",
      "LOG: finished MindScan   Beginn einer Rebellion\n",
      "LOG: finished Moenia\n",
      "LOG: finished Natalie\n",
      "LOG: finished Nicht gesucht und doch gefunden\n",
      "LOG: finished Nüstern  die das Herz berühren\n",
      "LOG: finished Of traitors and kings Das erste Abenteuer\n",
      "LOG: finished Pact of life\n",
      "LOG: finished Pass auf \n",
      "LOG: finished Prinzessin Elisabeth Sophia van Oranie Nassau\n",
      "LOG: finished Qismat Ek Pyaar   Schicksal einer Liebe\n",
      "LOG: finished Royals\n",
      "LOG: finished SOLUM\n",
      "LOG: finished Santuan   Der Fehler der Meisterwandler\n",
      "LOG: finished Schwert und Flamme\n",
      "LOG: finished Searching for the past\n",
      "LOG: finished Sehnsucht nach Frieden\n",
      "LOG: finished Siebenstein\n",
      "LOG: finished Snails Express\n",
      "LOG: finished Stranded\n",
      "LOG: finished Suenos  2009    Die Macht der Katzenaugen  Alte Verfassung \n",
      "LOG: finished Suenos  2016    Im Land der Tackel\n",
      "LOG: finished Tanz der Spione\n",
      "LOG: finished Tanz der Spione 2 \n",
      "LOG: finished Tanz der Spione 3\n",
      "LOG: finished The Last Shinobi\n",
      "LOG: finished Tochter des Gefangenen   Hexen Trilogie 1 \n",
      "LOG: finished Tracy Marric\n",
      "LOG: finished Trampen nach L A \n",
      "LOG: finished Traumpfad\n",
      "LOG: finished Triton Neptun Scott und der Apfel des Glücks\n",
      "LOG: finished Turn back the clock  Staffel 1 \n",
      "LOG: finished Wanted   Das Spiel beginnt\n",
      "LOG: finished Warm  kalt und alles dazwischen \n",
      "LOG: finished Wave Crown\n",
      "LOG: finished Wecke nicht die Toten  Band 1\n",
      "LOG: finished Wecke nicht die Toten  Band 2\n",
      "LOG: finished Wir und unsere Leichen\n"
     ]
    },
    {
     "name": "stdout",
     "output_type": "stream",
     "text": [
      "LOG: finished Wohin der Wind auch weht   Meharos Zauber\n",
      "LOG: finished Wunder geschehen\n",
      "LOG: finished Yuus unglaubliche Abenteuer\n",
      "LOG: finished Yuus unglaubliche Abenteuer\n",
      "LOG: finished Zeitsplitter in Bronze\n",
      "LOG: finished Zwischen Himmel und Erde\n",
      "LOG: finished Zwischen allen Welten\n",
      "LOG: finished Baldur   Alle Farben der Magie\n",
      "LOG: finished Baldur   Alle Farben der Magie\n",
      "LOG: finished Baldur   Alle Farben der Magie\n",
      "LOG: finished Baldur   Alle Farben der Magie\n",
      "LOG: finished Baldur   Alle Farben der Magie\n",
      "LOG: finished Clash of Times\n",
      "LOG: finished Der Held von Aranor\n",
      "LOG: finished Der König von Kalaß\n",
      "LOG: finished Der Zeitzug   Die erste Fahrt des Schaffners\n",
      "LOG: finished Die Chroniken der sieben Schwerter\n",
      "LOG: finished Die Geschichte von Lars Zickler\n",
      "LOG: finished Die Große Liebe im Jugendknast\n",
      "LOG: finished Die Große Liebe im Jugendknast\n",
      "LOG: finished Die Höhle\n",
      "LOG: finished Die Kinder des Windes\n",
      "LOG: finished Ein Traum \n",
      "LOG: finished Fjell   Der Berg der Jomsburg\n",
      "LOG: finished Gabriel\n",
      "LOG: finished Geschäftsmann und Schamane\n",
      "LOG: finished Hinter den Bergen\n",
      "LOG: finished Infected   Kaltes Leben\n",
      "LOG: finished Jane   Dem Wahnsinn Entgegen\n",
      "LOG: finished Kreiling Power\n",
      "LOG: finished Kreiling Power\n",
      "LOG: finished New Earth\n",
      "LOG: finished Piraten\n",
      "LOG: finished Risen from Ruins\n",
      "LOG: finished Seelenlicht\n",
      "LOG: finished Shadow Sky\n",
      "LOG: finished Spirit Force\n",
      "LOG: finished Star Dart 2   Die Kinder des Universums\n",
      "LOG: finished Sturmkind 1   Der Tempel der vier Winde \n",
      "LOG: finished The Heavy Way\n",
      "LOG: finished The Unreal Reality\n",
      "LOG: finished The splintered truth\n",
      "LOG: finished The splintered truth\n",
      "LOG: finished The splintered truth\n",
      "LOG: finished The splintered truth\n",
      "LOG: finished The splintered truth\n",
      "LOG: finished Tokyo Devils  Tokyo Sharks\n",
      "LOG: finished Tokyo Devils  Tokyo Sharks\n",
      "LOG: finished Tokyo Devils  Tokyo Sharks\n",
      "LOG: finished Ulrik 2\n",
      "LOG: finished Ulrik 2\n",
      "LOG: finished Albtraum\n",
      "LOG: finished Alina\n",
      "LOG: finished Aller Anfang ist schwer\n",
      "LOG: finished Angel  Arbeitstitel \n",
      "LOG: finished Anonym\n",
      "LOG: finished Auf den Spuren der Vergangenheit\n",
      "LOG: finished Authorities Task Force\n",
      "LOG: finished Being Jack\n",
      "LOG: finished Broken Mirrors   \n",
      "LOG: finished Bruderliebe\n",
      "LOG: finished CRY\n",
      "LOG: finished Cube\n",
      "LOG: finished Das Attentat\n",
      "LOG: finished Das Böse hat ein Herz\n",
      "LOG: finished Das mörderische Krimidinner\n",
      "LOG: finished Death Teacher\n",
      "LOG: finished Der Anfang der Katastrophen oder London calling\n",
      "LOG: finished Der Diamantenprinz\n",
      "LOG: finished Der Fall Lukis\n",
      "LOG: finished Der Herzensbrecher\n",
      "LOG: finished Der Mountie   Das Geheimnis der toten Elche\n",
      "LOG: finished Der Zweck heiligt die Mittel\n",
      "LOG: finished Der erste Fall\n",
      "LOG: finished Die Entführung\n",
      "LOG: finished Die Fassade\n",
      "LOG: finished Die Nacht im Mai\n",
      "LOG: finished Die Stunde der Angst\n",
      "LOG: finished Die weiße Witwe\n",
      "LOG: finished Eiskalt\n",
      "LOG: finished Emma\n",
      "LOG: finished Falsche Sterne über Tokyo\n",
      "LOG: finished Familie endet nicht beim Blut\n",
      "LOG: finished Finn Becket Undercover  Drogenrausch\n",
      "LOG: finished Frauenmörder  Liebeswirren und andere Katastrophen\n",
      "LOG: finished HAMBURG KRIMI   Schatten der Vergangenheit\n",
      "LOG: finished HAMBURG KRIMI II   Teufel in der Hansestadt\n",
      "LOG: finished HInter deinem Schatten\n",
      "LOG: finished Havering Circle\n",
      "LOG: finished Hinter meiner Ex\n",
      "LOG: finished Ich bin Fünf\n",
      "LOG: finished Im Mondenschein\n",
      "LOG: finished Im Namen der Gerechtigkeit\n",
      "LOG: finished Immer wieder Sonntags   \n",
      "LOG: finished In Fünf Zügen\n",
      "LOG: finished In den Mauern des Feindes\n",
      "LOG: finished Interrogation Room\n",
      "LOG: finished Jonas\n",
      "LOG: finished Kein Grund zur Sorge\n",
      "LOG: finished Laura\n",
      "LOG: finished Lebende Bombe   Und ich krieg dich doch\n",
      "LOG: finished Leseprobe   Im Fokus der Liebe\n",
      "LOG: finished Leseprobe  Im Fokus der Zukunft\n",
      "LOG: finished Lisa\n",
      "LOG: finished Locurar\n",
      "LOG: finished Mad Maids\n",
      "LOG: finished Marie Lena\n",
      "LOG: finished Messerscharf\n",
      "LOG: finished Morgenstund \n",
      "LOG: finished Moritz\n",
      "LOG: finished Nachtgeheimnisse\n",
      "LOG: finished Paul\n",
      "LOG: finished Pentagramm\n",
      "LOG: finished Perfect  but better\n",
      "LOG: finished Pierre\n",
      "LOG: finished Police Line\n",
      "LOG: finished REVANGE\n",
      "LOG: finished RMS Titanic Krimi   noch kein Titel \n",
      "LOG: finished SL 8\n",
      "LOG: finished Schattenspringer\n",
      "LOG: finished Schattenwege\n",
      "LOG: finished Spiegelbildmord\n",
      "LOG: finished Stolen Dreams and Hearts  Teil 1  \n",
      "LOG: finished Tara Felber und ein  fast  perfekter Plan\n",
      "LOG: finished The Circle\n",
      "LOG: finished Tot oder lebendig\n",
      "LOG: finished Tot oder lebendig II\n",
      "LOG: finished Tödliche Leidenschaft\n",
      "LOG: finished Um jeden Preis\n",
      "LOG: finished Unheimliches Verschwinden\n",
      "LOG: finished Vampirpfoten\n",
      "LOG: finished Verhöhnter Zorn\n",
      "LOG: finished Vertrauen ist gut    \n",
      "LOG: finished Via Inquisitoris  Draculas Rückkehr\n",
      "LOG: finished Via Inquisitoris  Ein Sarg in Transsylvanien   der vierte Vampirkrimi\n",
      "LOG: finished Via Inquisitoris  Wiener Blut\n",
      "LOG: finished Vogelfrei\n",
      "LOG: finished Vom Fischer und seiner Frau\n",
      "LOG: finished Wendland Saga 19  Jh    Alexander von Wendland 2  Buch\n",
      "LOG: finished Zu Kreuze getragen\n",
      "LOG: finished chicago   rache auf umwegen\n",
      "LOG: finished Blutsfeder\n",
      "LOG: finished Crossed Arrows  Verschränkte Pfeile\n",
      "LOG: finished Das Geheimnis von Silver City\n",
      "LOG: finished Das Geisterschiff\n",
      "LOG: finished Das Geschäft\n",
      "LOG: finished Das Mantra für Blau\n",
      "LOG: finished Der Detektiv und die Flüchtlinge\n",
      "LOG: finished Der Pate von Sankt Petersburg\n",
      "LOG: finished Detektei X\n",
      "LOG: finished Die Beine des Victor Vervodin\n",
      "LOG: finished Die Biene\n",
      "LOG: finished Eine letzte Kugel\n",
      "LOG: finished Einmal zurück und wieder zurück  bitte \n",
      "LOG: finished Equus Carnifex\n",
      "LOG: finished Goldrausch\n",
      "LOG: finished Himmelstraum\n",
      "LOG: finished Höhenrausch\n",
      "LOG: finished IOSC Duologie  das Prequel\n",
      "LOG: finished Jagdfieber\n",
      "LOG: finished Liebe den Tod \n",
      "LOG: finished Precious Insel der Vergangenheit\n",
      "LOG: finished Schneeeule\n",
      "LOG: finished Southern Comfort\n",
      "LOG: finished Stilles Gewässer\n",
      "LOG: finished The Tricks of the Detectives\n",
      "LOG: finished The Twist\n",
      "LOG: finished Tote Helden\n",
      "LOG: finished Tödliche Begegnung\n",
      "LOG: finished Unter Verdacht\n",
      "LOG: finished Verraten\n",
      "LOG: finished Wolkenkind\n"
     ]
    }
   ],
   "source": [
    "# Set max_length according to your PC, the higher, the more RAM is required 100000 ~~ 1 GB\n",
    "nlp.max_length = 800000\n",
    "\n",
    "# Choose those you want to view/compare/plot later, results in DFs\n",
    "data_comp1 = get_brut_ratio(joined_text_hor_W)\n",
    "data_comp1[\"field\"] = \"hor_W\"\n",
    "data_comp2 = get_brut_ratio(joined_text_hor_M)\n",
    "data_comp2[\"field\"] = \"hor_M\"\n",
    "\n",
    "data_comp3 = get_brut_ratio(joined_text_aben_W)\n",
    "data_comp3[\"field\"] = \"aben_W\"\n",
    "data_comp4 = get_brut_ratio(joined_text_aben_M)\n",
    "data_comp4[\"field\"] = \"aben_M\"\n",
    "\n",
    "data_comp5 = get_brut_ratio(joined_text_krimi_W)\n",
    "data_comp5[\"field\"] = \"krimi_W\"\n",
    "data_comp6 = get_brut_ratio(joined_text_krimi_M)\n",
    "data_comp6[\"field\"] = \"krimi_M\"\n"
   ]
  },
  {
   "cell_type": "code",
   "execution_count": 36,
   "metadata": {
    "pycharm": {
     "name": "#%%\n"
    }
   },
   "outputs": [],
   "source": [
    "data_final_hor = pd.concat([data_comp1, data_comp2])\n",
    "data_final_aben = pd.concat([data_comp3, data_comp4])\n",
    "data_final_krimi = pd.concat([data_comp5, data_comp6])"
   ]
  },
  {
   "cell_type": "code",
   "execution_count": 37,
   "metadata": {
    "pycharm": {
     "name": "#%%\n"
    }
   },
   "outputs": [],
   "source": [
    "data_final_hor.to_csv(\"csv_analyse_data_hor.csv\", sep =\"|\")\n",
    "data_final_aben.to_csv(\"csv_analyse_data_aben.csv\", sep =\"|\")\n",
    "data_final_krimi.to_csv(\"csv_analyse_data_.krimi\", sep =\"|\")"
   ]
  },
  {
   "cell_type": "code",
   "execution_count": 38,
   "metadata": {
    "pycharm": {
     "name": "#%%\n"
    }
   },
   "outputs": [],
   "source": [
    "data_final_hor = pd.read_csv(\"csv_analyse_data_hor.csv\", sep =\"|\" )\n",
    "data_final_aben = pd.read_csv(\"csv_analyse_data_aben.csv\", sep =\"|\" )\n",
    "data_final_krimi = pd.read_csv(\"csv_analyse_data_krimi.csv\", sep =\"|\" )"
   ]
  },
  {
   "cell_type": "code",
   "execution_count": 42,
   "metadata": {
    "pycharm": {
     "name": "#%%\n"
    },
    "scrolled": true
   },
   "outputs": [
    {
     "data": {
      "text/html": [
       "<div>\n",
       "<style scoped>\n",
       "    .dataframe tbody tr th:only-of-type {\n",
       "        vertical-align: middle;\n",
       "    }\n",
       "\n",
       "    .dataframe tbody tr th {\n",
       "        vertical-align: top;\n",
       "    }\n",
       "\n",
       "    .dataframe thead th {\n",
       "        text-align: right;\n",
       "    }\n",
       "</style>\n",
       "<table border=\"1\" class=\"dataframe\">\n",
       "  <thead>\n",
       "    <tr style=\"text-align: right;\">\n",
       "      <th></th>\n",
       "      <th>Unnamed: 0</th>\n",
       "      <th>novel</th>\n",
       "      <th>brut_sum</th>\n",
       "      <th>brut_type</th>\n",
       "      <th>Total Words</th>\n",
       "      <th>Percentage</th>\n",
       "      <th>field</th>\n",
       "    </tr>\n",
       "  </thead>\n",
       "  <tbody>\n",
       "    <tr>\n",
       "      <th>0</th>\n",
       "      <td>0</td>\n",
       "      <td>Albtraum</td>\n",
       "      <td>144</td>\n",
       "      <td>23</td>\n",
       "      <td>19159</td>\n",
       "      <td>0.751605</td>\n",
       "      <td>krimi_W</td>\n",
       "    </tr>\n",
       "    <tr>\n",
       "      <th>1</th>\n",
       "      <td>1</td>\n",
       "      <td>Alina</td>\n",
       "      <td>85</td>\n",
       "      <td>19</td>\n",
       "      <td>12850</td>\n",
       "      <td>0.661479</td>\n",
       "      <td>krimi_W</td>\n",
       "    </tr>\n",
       "    <tr>\n",
       "      <th>2</th>\n",
       "      <td>2</td>\n",
       "      <td>Aller Anfang ist schwer</td>\n",
       "      <td>72</td>\n",
       "      <td>29</td>\n",
       "      <td>14258</td>\n",
       "      <td>0.504980</td>\n",
       "      <td>krimi_W</td>\n",
       "    </tr>\n",
       "    <tr>\n",
       "      <th>3</th>\n",
       "      <td>3</td>\n",
       "      <td>Angel  Arbeitstitel</td>\n",
       "      <td>88</td>\n",
       "      <td>23</td>\n",
       "      <td>11685</td>\n",
       "      <td>0.753102</td>\n",
       "      <td>krimi_W</td>\n",
       "    </tr>\n",
       "    <tr>\n",
       "      <th>4</th>\n",
       "      <td>4</td>\n",
       "      <td>Anonym</td>\n",
       "      <td>41</td>\n",
       "      <td>15</td>\n",
       "      <td>11066</td>\n",
       "      <td>0.370504</td>\n",
       "      <td>krimi_W</td>\n",
       "    </tr>\n",
       "    <tr>\n",
       "      <th>...</th>\n",
       "      <td>...</td>\n",
       "      <td>...</td>\n",
       "      <td>...</td>\n",
       "      <td>...</td>\n",
       "      <td>...</td>\n",
       "      <td>...</td>\n",
       "      <td>...</td>\n",
       "    </tr>\n",
       "    <tr>\n",
       "      <th>117</th>\n",
       "      <td>27</td>\n",
       "      <td>Tote Helden</td>\n",
       "      <td>207</td>\n",
       "      <td>37</td>\n",
       "      <td>35750</td>\n",
       "      <td>0.579021</td>\n",
       "      <td>krimi_M</td>\n",
       "    </tr>\n",
       "    <tr>\n",
       "      <th>118</th>\n",
       "      <td>28</td>\n",
       "      <td>Tödliche Begegnung</td>\n",
       "      <td>233</td>\n",
       "      <td>36</td>\n",
       "      <td>31566</td>\n",
       "      <td>0.738136</td>\n",
       "      <td>krimi_M</td>\n",
       "    </tr>\n",
       "    <tr>\n",
       "      <th>119</th>\n",
       "      <td>29</td>\n",
       "      <td>Unter Verdacht</td>\n",
       "      <td>209</td>\n",
       "      <td>30</td>\n",
       "      <td>21994</td>\n",
       "      <td>0.950259</td>\n",
       "      <td>krimi_M</td>\n",
       "    </tr>\n",
       "    <tr>\n",
       "      <th>120</th>\n",
       "      <td>30</td>\n",
       "      <td>Verraten</td>\n",
       "      <td>124</td>\n",
       "      <td>31</td>\n",
       "      <td>15481</td>\n",
       "      <td>0.800982</td>\n",
       "      <td>krimi_M</td>\n",
       "    </tr>\n",
       "    <tr>\n",
       "      <th>121</th>\n",
       "      <td>31</td>\n",
       "      <td>Wolkenkind</td>\n",
       "      <td>373</td>\n",
       "      <td>47</td>\n",
       "      <td>53530</td>\n",
       "      <td>0.696806</td>\n",
       "      <td>krimi_M</td>\n",
       "    </tr>\n",
       "  </tbody>\n",
       "</table>\n",
       "<p>122 rows × 7 columns</p>\n",
       "</div>"
      ],
      "text/plain": [
       "     Unnamed: 0                    novel  brut_sum  brut_type  Total Words  \\\n",
       "0             0                 Albtraum       144         23        19159   \n",
       "1             1                    Alina        85         19        12850   \n",
       "2             2  Aller Anfang ist schwer        72         29        14258   \n",
       "3             3     Angel  Arbeitstitel         88         23        11685   \n",
       "4             4                   Anonym        41         15        11066   \n",
       "..          ...                      ...       ...        ...          ...   \n",
       "117          27              Tote Helden       207         37        35750   \n",
       "118          28       Tödliche Begegnung       233         36        31566   \n",
       "119          29           Unter Verdacht       209         30        21994   \n",
       "120          30                 Verraten       124         31        15481   \n",
       "121          31               Wolkenkind       373         47        53530   \n",
       "\n",
       "     Percentage    field  \n",
       "0      0.751605  krimi_W  \n",
       "1      0.661479  krimi_W  \n",
       "2      0.504980  krimi_W  \n",
       "3      0.753102  krimi_W  \n",
       "4      0.370504  krimi_W  \n",
       "..          ...      ...  \n",
       "117    0.579021  krimi_M  \n",
       "118    0.738136  krimi_M  \n",
       "119    0.950259  krimi_M  \n",
       "120    0.800982  krimi_M  \n",
       "121    0.696806  krimi_M  \n",
       "\n",
       "[122 rows x 7 columns]"
      ]
     },
     "execution_count": 42,
     "metadata": {},
     "output_type": "execute_result"
    }
   ],
   "source": [
    "data_final_krimi\n",
    "\n"
   ]
  },
  {
   "cell_type": "markdown",
   "metadata": {
    "pycharm": {
     "name": "#%% md\n"
    }
   },
   "source": [
    "## Plotting\n"
   ]
  },
  {
   "cell_type": "code",
   "execution_count": 43,
   "metadata": {
    "pycharm": {
     "name": "#%%\n"
    }
   },
   "outputs": [],
   "source": [
    "import seaborn as sns\n",
    "import matplotlib.pyplot as plt"
   ]
  },
  {
   "cell_type": "code",
   "execution_count": 44,
   "metadata": {
    "pycharm": {
     "name": "#%%\n"
    }
   },
   "outputs": [],
   "source": [
    "# to make sure to not lose data, plots can be saved, make sure you change filename if you use this option\n",
    "SAVE_FILES = True\n",
    "\n",
    "subdirectory = Path('plots')\n",
    "subdirectory.mkdir(parents=True, exist_ok=True)\n",
    "#FILENAME- CHANGE THIS\n",
    "plot_name_hor = 'hor.png'\n",
    "file_path_hor = subdirectory / plot_name_hor\n",
    "\n",
    "plot_name_aben = 'aben.png'\n",
    "file_path_aben = subdirectory / plot_name_aben\n",
    "\n",
    "plot_name_krimi = 'krimi.png'\n",
    "file_path_krimi = subdirectory / plot_name_krimi"
   ]
  },
  {
   "cell_type": "code",
   "execution_count": 45,
   "metadata": {
    "pycharm": {
     "name": "#%%\n"
    }
   },
   "outputs": [],
   "source": [
    "df_hor =  data_final_hor.sort_values('Percentage', ascending=True)\n",
    "df_aben =  data_final_aben.sort_values('Percentage', ascending=True)\n",
    "df_krimi =  data_final_krimi.sort_values('Percentage', ascending=True)#DataFrame mit den Anteilen der Adjektive hier einfügen"
   ]
  },
  {
   "cell_type": "markdown",
   "metadata": {
    "pycharm": {
     "name": "#%% md\n"
    }
   },
   "source": [
    "# Viewing the Data"
   ]
  },
  {
   "cell_type": "code",
   "execution_count": null,
   "metadata": {
    "pycharm": {
     "name": "#%%\n"
    }
   },
   "outputs": [],
   "source": [
    "sns.set(rc={'figure.figsize':(10, 20)})\n",
    "sns.barplot(x='Percentage', y='novel', hue='field', data=df)\n",
    "\n",
    "plt.xlabel('Percentage of Brutal words', fontsize = 25)\n",
    "plt.ylabel('Novel', fontsize = 25)\n",
    "\n",
    "highest_percentage = df['Percentage'].max()\n",
    "lowest_percentage = df['Percentage'].min()\n",
    "average_percentage = df['Percentage'].mean()\n",
    "\n",
    "text_highest = f'Highest: {highest_percentage:.2f}%'\n",
    "text_lowest = f'Lowest: {lowest_percentage:.2f}%'\n",
    "text_average = f'Average: {average_percentage:.2f}%'\n",
    "\n",
    "plt.annotate(text_highest, xy=(highest_percentage, len(df)-1), xytext=(10, 0),\n",
    "             ha='left', va='center', fontsize=20, xycoords='data', textcoords='offset points')\n",
    "plt.annotate(text_lowest, xy=(lowest_percentage, 0), xytext=(10, 0),\n",
    "             ha='left', va='center', fontsize=20, xycoords='data', textcoords='offset points')\n",
    "plt.annotate(text_average, xy=(average_percentage, len(df)//2), xytext=(10, 0),\n",
    "             ha='left', va='center', fontsize=20, xycoords='data', textcoords='offset points')\n",
    "\n",
    "if SAVE_FILES: plt.savefig(file_path, dpi= 300, bbox_inches ='tight')\n",
    "\n",
    "plt.show()"
   ]
  },
  {
   "cell_type": "markdown",
   "metadata": {
    "pycharm": {
     "name": "#%% md\n"
    }
   },
   "source": [
    "# Comparison plots"
   ]
  },
  {
   "cell_type": "code",
   "execution_count": 46,
   "metadata": {
    "pycharm": {
     "name": "#%%\n"
    },
    "scrolled": true
   },
   "outputs": [
    {
     "name": "stderr",
     "output_type": "stream",
     "text": [
      "C:\\Users\\simon\\AppData\\Local\\Temp\\ipykernel_12988\\4162817447.py:2: FutureWarning: \n",
      "\n",
      "The `ci` parameter is deprecated. Use `errorbar=None` for the same effect.\n",
      "\n",
      "  sns.barplot(data=df_hor, x='field', y='Percentage', ci= None)\n"
     ]
    },
    {
     "data": {
      "image/png": "[encoded data removed]",
      "text/plain": [
       "<Figure size 1000x1000 with 1 Axes>"
      ]
     },
     "metadata": {},
     "output_type": "display_data"
    },
    {
     "name": "stderr",
     "output_type": "stream",
     "text": [
      "C:\\Users\\simon\\AppData\\Local\\Temp\\ipykernel_12988\\4162817447.py:26: FutureWarning: \n",
      "\n",
      "The `ci` parameter is deprecated. Use `errorbar=None` for the same effect.\n",
      "\n",
      "  sns.barplot(data=df_aben, x='field', y='Percentage', ci= None)\n"
     ]
    },
    {
     "data": {
      "image/png": "[encoded data removed]",
      "text/plain": [
       "<Figure size 1000x1000 with 1 Axes>"
      ]
     },
     "metadata": {},
     "output_type": "display_data"
    },
    {
     "name": "stderr",
     "output_type": "stream",
     "text": [
      "C:\\Users\\simon\\AppData\\Local\\Temp\\ipykernel_12988\\4162817447.py:50: FutureWarning: \n",
      "\n",
      "The `ci` parameter is deprecated. Use `errorbar=None` for the same effect.\n",
      "\n",
      "  sns.barplot(data=df_krimi, x='field', y='Percentage', ci= None)\n"
     ]
    },
    {
     "data": {
      "image/png": "[encoded data removed]",
      "text/plain": [
       "<Figure size 1000x1000 with 1 Axes>"
      ]
     },
     "metadata": {},
     "output_type": "display_data"
    }
   ],
   "source": [
    "sns.set(rc={'figure.figsize':(10, 10)})\n",
    "sns.barplot(data=df_hor, x='field', y='Percentage', ci= None)\n",
    "\n",
    "# Calculate and display average and median for each group\n",
    "average_per_group = df_hor.groupby('field')['Percentage'].mean()\n",
    "median_per_group = df_hor.groupby('field')['Percentage'].median()\n",
    "total_words_sum = df_hor['Total Words'].sum()\n",
    "\n",
    "for i, field in enumerate(df_hor['field'].unique()):\n",
    "    plt.text(i, average_per_group[field], f'Avg: {average_per_group[field]:.2f}%', ha='center', va='bottom', fontsize=15)\n",
    "    plt.text(i, median_per_group[field], f'Median: {median_per_group[field]:.2f}%', ha='center', va='top', fontsize=15)\n",
    "\n",
    "plt.xlabel('Field', fontsize=15)\n",
    "plt.ylabel('Percentage of Brutal words', fontsize=20)\n",
    "plt.title('Average and Median by Field', fontsize=24)\n",
    "\n",
    "plt.text(0.5, 0.1, f\"Total Words Sum: {'{:,.0f}'.format(total_words_sum).replace(',', ' ')}\",\n",
    "         ha= \"center\", transform=plt.gca().transAxes, fontsize=25)\n",
    "    \n",
    "\n",
    "if SAVE_FILES: plt.savefig(file_path_hor, dpi= 300, bbox_inches ='tight')\n",
    "\n",
    "plt.show()\n",
    "\n",
    "sns.set(rc={'figure.figsize':(10, 10)})\n",
    "sns.barplot(data=df_aben, x='field', y='Percentage', ci= None)\n",
    "\n",
    "# Calculate and display average and median for each group\n",
    "average_per_group = df_aben.groupby('field')['Percentage'].mean()\n",
    "median_per_group = df_aben.groupby('field')['Percentage'].median()\n",
    "total_words_sum = df_aben['Total Words'].sum()\n",
    "\n",
    "for i, field in enumerate(df_aben['field'].unique()):\n",
    "    plt.text(i, average_per_group[field], f'Avg: {average_per_group[field]:.2f}%', ha='center', va='bottom', fontsize=15)\n",
    "    plt.text(i, median_per_group[field], f'Median: {median_per_group[field]:.2f}%', ha='center', va='top', fontsize=15)\n",
    "\n",
    "plt.xlabel('Field', fontsize=15)\n",
    "plt.ylabel('Percentage of Brutal words', fontsize=20)\n",
    "plt.title('Average and Median by Field', fontsize=24)\n",
    "\n",
    "plt.text(0.5, 0.1, f\"Total Words Sum: {'{:,.0f}'.format(total_words_sum).replace(',', ' ')}\",\n",
    "         ha= \"center\", transform=plt.gca().transAxes, fontsize=25)\n",
    "    \n",
    "\n",
    "if SAVE_FILES: plt.savefig(file_path_aben, dpi= 300, bbox_inches ='tight')\n",
    "\n",
    "plt.show()\n",
    "\n",
    "sns.set(rc={'figure.figsize':(10, 10)})\n",
    "sns.barplot(data=df_krimi, x='field', y='Percentage', ci= None)\n",
    "\n",
    "# Calculate and display average and median for each group\n",
    "average_per_group = df_krimi.groupby('field')['Percentage'].mean()\n",
    "median_per_group = df_krimi.groupby('field')['Percentage'].median()\n",
    "total_words_sum = df_krimi['Total Words'].sum()\n",
    "\n",
    "for i, field in enumerate(df_krimi['field'].unique()):\n",
    "    plt.text(i, average_per_group[field], f'Avg: {average_per_group[field]:.2f}%', ha='center', va='bottom', fontsize=15)\n",
    "    plt.text(i, median_per_group[field], f'Median: {median_per_group[field]:.2f}%', ha='center', va='top', fontsize=15)\n",
    "\n",
    "plt.xlabel('Field', fontsize=15)\n",
    "plt.ylabel('Percentage of Brutal words', fontsize=20)\n",
    "plt.title('Average and Median by Field', fontsize=24)\n",
    "\n",
    "plt.text(0.5, 0.1, f\"Total Words Sum: {'{:,.0f}'.format(total_words_sum).replace(',', ' ')}\",\n",
    "         ha= \"center\", transform=plt.gca().transAxes, fontsize=25)\n",
    "    \n",
    "\n",
    "if SAVE_FILES: plt.savefig(file_path_krimi, dpi= 300, bbox_inches ='tight')\n",
    "\n",
    "plt.show()"
   ]
  },
  {
   "cell_type": "markdown",
   "metadata": {
    "pycharm": {
     "name": "#%% md\n"
    }
   },
   "source": [
    "# Brut Types"
   ]
  },
  {
   "cell_type": "code",
   "execution_count": null,
   "metadata": {
    "pycharm": {
     "name": "#%%\n"
    }
   },
   "outputs": [],
   "source": [
    "overall_avg_brut_type = df['brut_type'].mean()\n",
    "\n",
    "# Calculate the average of \"brut_type\" for each unique group in the 'field' column\n",
    "avg_brut_type_by_field = df.groupby('field')['brut_type'].mean()\n",
    "\n",
    "# Set the figure size\n",
    "plt.figure(figsize=(10, 6))\n",
    "\n",
    "# Create a barplot to display the overall average and averages by field\n",
    "plt.bar(\"Overall\", overall_avg_brut_type, label='Overall Average', color='blue')\n",
    "for field, avg in avg_brut_type_by_field.items():\n",
    "    plt.bar(field, avg, label=f'Average in {field}', color='orange')\n",
    "\n",
    "plt.xlabel('Field', fontsize=15)\n",
    "plt.ylabel('Average of brut_type', fontsize=15)\n",
    "plt.title('Average of brut_type by Field', fontsize=18)\n",
    "plt.legend(fontsize=12)\n",
    "\n",
    "plt.legend(fontsize=12, loc='center left', bbox_to_anchor=(1, 0.5))\n",
    "\n",
    "# Specify the file path relative to the subdirectory and format (e.g., PNG)\n",
    "plt.savefig(file_path, dpi=300, bbox_inches='tight')\n",
    "\n",
    "# To save in other formats, change the file extension (e.g., 'average_brut_type.jpg', 'average_brut_type.pdf')\n",
    "\n",
    "plt.show()"
   ]
  },
  {
   "cell_type": "code",
   "execution_count": 50,
   "metadata": {
    "pycharm": {
     "name": "#%%\n"
    }
   },
   "outputs": [
    {
     "name": "stdout",
     "output_type": "stream",
     "text": [
      "T-Statistik Horror: 1.344573060441697\n",
      "p-Wert Horror: 0.1816333496089395\n",
      "T-Statistik Abenteuer: 2.0369589456107637\n",
      "p-Wert Abenteuer: 0.04338936429216668\n",
      "T-Statistik Krimi: 1.9631704129410246\n",
      "p-Wert Krimi: 0.05193967646503615\n",
      "Es gibt keinen statistisch signifikanten Unterschied im Anteil der brutalen Worte zwischen männlichen und weiblichen Autoren.\n",
      "Der Unterschied im Anteil der brutalen Worte zwischen männlichen und weiblichen Autoren in der Rubrik Abenteuer ist statistisch signifikant.\n",
      "Es gibt keinen statistisch signifikanten Unterschied im Anteil der brutalen Worte zwischen männlichen und weiblichen Autoren.\n"
     ]
    }
   ],
   "source": [
    "from scipy import stats\n",
    "df_hor = data_final_hor\n",
    "df_aben = data_final_aben\n",
    "df_krimi = data_final_krimi\n",
    "\n",
    "male_data_hor = df_hor[df_hor['field'] == 'hor_M']['Percentage']\n",
    "female_data_hor = df_hor[df_hor['field'] == 'hor_W']['Percentage']\n",
    "\n",
    "male_data_aben = df_aben[df_aben['field'] == 'aben_M']['Percentage']\n",
    "female_data_aben = df_aben[df_aben['field'] == 'aben_W']['Percentage']\n",
    "\n",
    "male_data_krimi = df_krimi[df_krimi['field'] == 'krimi_M']['Percentage']\n",
    "female_data_krimi = df_krimi[df_krimi['field'] == 'krimi_W']['Percentage']\n",
    "\n",
    "# Durchführung des T-Tests\n",
    "t_statistic_hor, p_value_hor = stats.ttest_ind(male_data_hor, female_data_hor, equal_var=True)\n",
    "t_statistic_aben, p_value_aben = stats.ttest_ind(male_data_aben, female_data_aben, equal_var=True)\n",
    "t_statistic_krimi, p_value_krimi = stats.ttest_ind(male_data_krimi, female_data_krimi, equal_var=True)\n",
    "# Ausgabe der Testergebnisse\n",
    "print(f'T-Statistik Horror: {t_statistic_hor}')\n",
    "print(f'p-Wert Horror: {p_value_hor}')\n",
    "print(f'T-Statistik Abenteuer: {t_statistic_aben}')\n",
    "print(f'p-Wert Abenteuer: {p_value_aben}')\n",
    "print(f'T-Statistik Krimi: {t_statistic_krimi}')\n",
    "print(f'p-Wert Krimi: {p_value_krimi}')\n",
    "\n",
    "# Interpretation der Ergebnisse\n",
    "alpha = 0.05  # Signifikanzniveau\n",
    "if p_value_hor < alpha:\n",
    "    print(\"Der Unterschied im Anteil der brutalen Worte zwischen männlichen und weiblichen Autoren in der Rubrik Horror ist statistisch signifikant.\")\n",
    "else:\n",
    "    print(\"Es gibt keinen statistisch signifikanten Unterschied im Anteil der brutalen Worte zwischen männlichen und weiblichen Autoren.\")\n",
    "\n",
    "if p_value_aben < alpha:\n",
    "    print(\"Der Unterschied im Anteil der brutalen Worte zwischen männlichen und weiblichen Autoren in der Rubrik Abenteuer ist statistisch signifikant.\")\n",
    "else:\n",
    "    print(\"Es gibt keinen statistisch signifikanten Unterschied im Anteil der brutalen Worte zwischen männlichen und weiblichen Autoren.\")\n",
    "\n",
    "if p_value_krimi < alpha:\n",
    "    print(\"Der Unterschied im Anteil der brutalen Worte zwischen männlichen und weiblichen Autoren in der Rubrik Krimi ist statistisch signifikant.\")\n",
    "else:\n",
    "    print(\"Es gibt keinen statistisch signifikanten Unterschied im Anteil der brutalen Worte zwischen männlichen und weiblichen Autoren.\")"
   ]
  },
  {
   "cell_type": "code",
   "execution_count": null,
   "metadata": {},
   "outputs": [],
   "source": []
  }
 ],
 "metadata": {
  "kernelspec": {
   "display_name": "Python 3 (ipykernel)",
   "language": "python",
   "name": "python3"
  },
  "language_info": {
   "codemirror_mode": {
    "name": "ipython",
    "version": 3
   },
   "file_extension": ".py",
   "mimetype": "text/x-python",
   "name": "python",
   "nbconvert_exporter": "python",
   "pygments_lexer": "ipython3",
   "version": "3.9.16"
  }
 },
 "nbformat": 4,
 "nbformat_minor": 4
}
